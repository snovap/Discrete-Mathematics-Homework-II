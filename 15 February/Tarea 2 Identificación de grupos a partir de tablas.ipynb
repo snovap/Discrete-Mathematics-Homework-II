{
 "cells": [
  {
   "cell_type": "code",
   "execution_count": null,
   "id": "91b25483",
   "metadata": {},
   "outputs": [],
   "source": [
    "## Este algoritmo examina si la tabla que ingreso el usuario "
   ]
  },
  {
   "cell_type": "code",
   "execution_count": null,
   "id": "27e7826d",
   "metadata": {},
   "outputs": [],
   "source": [
    "Matriz = []\n",
    "Borde = []\n",
    "Cuadrado_Latino = False\n",
    "Grupo = False\n",
    "Neutro = False\n",
    "resultado_Neutro= \"\"\n",
    "Inverso = False\n",
    "Asociativo = False"
   ]
  },
  {
   "cell_type": "markdown",
   "id": "29e0e771",
   "metadata": {},
   "source": [
    "NOTA: \n",
    "\n",
    "**INSERCIÓN DE LOS DATOS** \n",
    "\n",
    "Para el proceso inserción de datos respectivos a la tabla, es necesario que el usuario \n",
    "ingrese los datos separados por coma y sin espacios."
   ]
  },
  {
   "cell_type": "code",
   "execution_count": null,
   "id": "b17e002e",
   "metadata": {},
   "outputs": [],
   "source": [
    "def verificaEntrada():\n",
    "    for subLista in Matriz:\n",
    "        for elemento in subLista:\n",
    "            if elemento not in Borde:\n",
    "                return false\n",
    "            \n",
    "    return True "
   ]
  },
  {
   "cell_type": "code",
   "execution_count": null,
   "id": "6cd30648",
   "metadata": {},
   "outputs": [],
   "source": [
    "def insertaMatriz():\n",
    "    while True:\n",
    "        n = int(input(\"Digite la dimensión de la tabla: \"))\n",
    "        global Borde \n",
    "        Borde = input(\"Ingrese los elementos del marco de la tabla (separados por comas): \").split(',')\n",
    "        for size in range(n):\n",
    "            Matriz.append(input(\"Ingrese fila \" + str(size+1) + \" (Separados por comas):\" ).split(','))\n",
    "            if verificaEntrada():\n",
    "                break\n",
    "            else:\n",
    "                print(\"\\n ¡ La tabla no es válida: Inténtelo nuevamente. \\n\")\n",
    "                \n",
    "insertaMatriz()"
   ]
  },
  {
   "cell_type": "code",
   "execution_count": null,
   "id": "9dbbe2d3",
   "metadata": {},
   "outputs": [],
   "source": [
    "def verificacion(respuesta):\n",
    "    if respuesta:\n",
    "        return \"Afirmativo\"\n",
    "    else:\n",
    "        return \"Negativo\""
   ]
  },
  {
   "cell_type": "markdown",
   "id": "352da1fd",
   "metadata": {},
   "source": [
    "**Cuadrado Latino**:\n",
    "\n",
    "El siguiente algoritmo verificará si la tabla ingresada es un cuadrado latino."
   ]
  },
  {
   "cell_type": "code",
   "execution_count": null,
   "id": "e790f472",
   "metadata": {},
   "outputs": [],
   "source": [
    "def verificaCuadrado_Latino():\n",
    "    n = len(Matriz)\n",
    "    numeroRepetido = False \n",
    "    for fila in range(n):\n",
    "        listaRevisionFila = []\n",
    "        listaRevisionColumna = []\n",
    "        for columna in range(n):\n",
    "            if Matriz[fila][columna] not in listaRevisionFila:\n",
    "                listaRevisionFila.append(Matriz[fila][columna])\n",
    "            else:\n",
    "                numeroRepetido = True\n",
    "                break\n",
    "                \n",
    "            if Matriz[columna][fila] not in listaRevisionColumna:\n",
    "                listaRevisionColumna.append(Matriz[columna][fila])\n",
    "            else:\n",
    "                numeroRepetido = True \n",
    "                break\n",
    "            \n",
    "        if numeroRepetido:\n",
    "            break\n",
    "    \n",
    "    if not numeroRepetido:\n",
    "        global Cuadrado_Latino\n",
    "        Cuadrado_Latino = True \n",
    "    print(\"¿ Es un cuadrado latino? \" + verificacion(Cuadrado_Latino))\n",
    "verificaCuadrado_Latino()                "
   ]
  },
  {
   "cell_type": "markdown",
   "id": "504015ec",
   "metadata": {},
   "source": [
    "**Grupo**:\n",
    "\n",
    "El siguiente algoritmo examina si la tabla es un grupo."
   ]
  },
  {
   "cell_type": "code",
   "execution_count": null,
   "id": "d7ac3396",
   "metadata": {},
   "outputs": [],
   "source": [
    "def getSet():\n",
    "    set = Matriz[0].copy()\n",
    "    return set"
   ]
  },
  {
   "cell_type": "code",
   "execution_count": null,
   "id": "ed10877c",
   "metadata": {},
   "outputs": [],
   "source": [
    "def getResultado(x, y):\n",
    "    fila = Borde.index(x)\n",
    "    columna = Borde.index(y)\n",
    "    return Matriz[fila][columna]"
   ]
  },
  {
   "cell_type": "code",
   "execution_count": null,
   "id": "5a727bcd",
   "metadata": {},
   "outputs": [],
   "source": [
    "def getNeutro(setGrupo):\n",
    "    global resultadoNeutro\n",
    "    for posibleNeutro in setGrupo:\n",
    "        contador = 0 \n",
    "        for dato in setGrupo:\n",
    "            Resultado = getResultado(posibleNeutro, dato)\n",
    "            if dato == Resultado:\n",
    "                contador = contador + 1\n",
    "                if contador == len(setGrupo):\n",
    "                    resultadoNeutro = posibleNeutro\n",
    "                    break\n",
    "            \n",
    "            else:\n",
    "                break\n",
    "                \n",
    "    if resultadoNeutro != \"\":\n",
    "        print(\"El elemento neutro es: \" + resultadoNeutro + \"\\n\")\n",
    "        global Neutro\n",
    "        Neutro = True\n",
    "    print(\"¿Existe un elemento neutro? \" + verificacion(Neutro))\n",
    "getNeutro(getSet())                "
   ]
  },
  {
   "cell_type": "code",
   "execution_count": null,
   "id": "8b1a6719",
   "metadata": {},
   "outputs": [],
   "source": [
    "def getInverso(setGrupo):\n",
    "    listaInversos = []\n",
    "    for dato in setGrupo:\n",
    "        for posibleInverso in setGrupo:\n",
    "            Resultado = getResultado(posibleInverso, dato)\n",
    "            if Resultado == resultadoNeutro:\n",
    "                if posibleInverso not in listaInversos:\n",
    "                    listaInversos.append(posibleInverso)\n",
    "                    continue\n",
    "                else:\n",
    "                    break\n",
    "    if len(listaInversos) == len(setGrupo):\n",
    "        for posicion in range(len(setGrupo)):\n",
    "            print(\"El inverso de \" + setGrupo[posicion] + \" es: \" + listaInversos[posicion])\n",
    "        print()\n",
    "        global Inverso\n",
    "        Inverso = True\n",
    "\n",
    "    print(\"¿Existe un inverso único para cada elemento del conjunto? \" + verificacion(Inverso))\n",
    "getInverso(getSet())"
   ]
  },
  {
   "cell_type": "code",
   "execution_count": null,
   "id": "381a601c",
   "metadata": {},
   "outputs": [],
   "source": [
    "def imprimeAsociativo(setGrupo, posicion):\n",
    "    derecha = True\n",
    "    for cont in range(len(setGrupo)-1):\n",
    "        if not derecha:\n",
    "            posicion = posicion -1\n",
    "        imprimeAsociativo(setGrupo.copy(), posicion)\n",
    "        x = setGrupo.pop(posicion)\n",
    "        y = setGrupo.pop(posicion)\n",
    "        Resultado = getResultado(x, y)\n",
    "        setGrupo.insert(posicion, resultado)\n",
    "        \n",
    "        if derecha:\n",
    "            try:\n",
    "                setGrupo[posicion+1]\n",
    "            except IndexError:\n",
    "                derecha = False\n",
    "    print(setGrupo[0])\n",
    "    return setGrupo[0]\n",
    "                "
   ]
  },
  {
   "cell_type": "code",
   "execution_count": null,
   "id": "383c55dc",
   "metadata": {},
   "outputs": [],
   "source": [
    "def verificaAsociativo(setGrupo):\n",
    "    listaResultados = []\n",
    "    print(\"Asociaciones posibles \\n\")\n",
    "    for posicion in range (len(setGrupo)- 1):\n",
    "        listaResultados.append(operaPorPosicion(setGrupo.copy(), posicion))\n",
    "        print()\n",
    "        \n",
    "        print(\"Resultados de la asociatividad obtenidos \" + str(listaResultados))\n",
    "        asociativo = True\n",
    "        for dato in listaResultados:\n",
    "            if listaResultados[0] != dato:\n",
    "                asociativo = False\n",
    "                break\n",
    "        global Asociativo\n",
    "        Asociativo = asociativo\n",
    "        print(\" ¿El conjunto es asociativo? \" + verificacion(Asociativo) + \"\\n\")\n",
    "        verificaAsociativo(getSet())\n"
   ]
  },
  {
   "cell_type": "markdown",
   "id": "9c986a54",
   "metadata": {},
   "source": [
    "**Resultados**"
   ]
  },
  {
   "cell_type": "code",
   "execution_count": null,
   "id": "722537ef",
   "metadata": {},
   "outputs": [],
   "source": [
    "print(\"¿Es cuadrado latino? \" verificacion(Cuadrado_Latino))\n",
    "print()\n",
    "\n",
    "print(\" ¿Existe un elemento Neutro? \" + verificacion(Neutro))\n",
    "\n",
    "print(\"¿ Existe un inverso para cada elemento del conjunto ? \" + verificacion(inverso))\n",
    "\n",
    "print(\"¿Es asociativo?: \" + verificacion(Asociativo))\n",
    "Respuesta = lamba: f\"sí\" if(Neutro and Inverso and Asociativo) else f\"no\"\n",
    "print(\"Entonces la tabla \" + Respuesta() + \" es un grupo. \" + \"\\n\")"
   ]
  }
 ],
 "metadata": {
  "kernelspec": {
   "display_name": "Python 3 (ipykernel)",
   "language": "python",
   "name": "python3"
  },
  "language_info": {
   "codemirror_mode": {
    "name": "ipython",
    "version": 3
   },
   "file_extension": ".py",
   "mimetype": "text/x-python",
   "name": "python",
   "nbconvert_exporter": "python",
   "pygments_lexer": "ipython3",
   "version": "3.10.9"
  }
 },
 "nbformat": 4,
 "nbformat_minor": 5
}
