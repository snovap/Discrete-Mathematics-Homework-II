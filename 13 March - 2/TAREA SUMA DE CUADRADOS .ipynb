{
 "cells": [
  {
   "cell_type": "markdown",
   "id": "d2f99faa",
   "metadata": {},
   "source": [
    "**UNIVERSIDAD NACIONAL DE COLOMBIA** \\\n",
    "\n",
    "**SEDE BOGOTÁ** \\\n",
    "\n",
    "**MATEMÁTICAS DISCRETAS II**\n",
    "\n",
    "\n",
    "Elaborado por: Sergio Alejandro Nova Pérez.\\\n",
    "Para: Francisco Albeiro Gomez Jaramillo.\n",
    "\n",
    "\n",
    "**TAREA**:\n",
    "expresar un número como una suma de cuadrados (pero con la menor cantidad de cuadrados).\n"
   ]
  },
  {
   "cell_type": "code",
   "execution_count": 1,
   "id": "dedaf0e4",
   "metadata": {},
   "outputs": [
    {
     "name": "stdout",
     "output_type": "stream",
     "text": [
      "2\n"
     ]
    }
   ],
   "source": [
    "x =10\n",
    "\n",
    "def suma_cuadrados(x):\n",
    "    if x == 0 or x == 1:\n",
    "       return x\n",
    "    else:\n",
    "        resultado_obtenido = []\n",
    "        for i in range(1, int(x**0.5) + 1):\n",
    "           residuo = x - i**2\n",
    "           resultado = suma_cuadrados(residuo) + 1\n",
    "           resultado_obtenido.append(resultado)\n",
    "        return min(resultado_obtenido)\n",
    "print(suma_cuadrados(x))"
   ]
  }
 ],
 "metadata": {
  "kernelspec": {
   "display_name": "Python 3 (ipykernel)",
   "language": "python",
   "name": "python3"
  },
  "language_info": {
   "codemirror_mode": {
    "name": "ipython",
    "version": 3
   },
   "file_extension": ".py",
   "mimetype": "text/x-python",
   "name": "python",
   "nbconvert_exporter": "python",
   "pygments_lexer": "ipython3",
   "version": "3.10.9"
  }
 },
 "nbformat": 4,
 "nbformat_minor": 5
}
