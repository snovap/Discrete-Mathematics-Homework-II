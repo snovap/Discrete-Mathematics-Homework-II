{
 "cells": [
  {
   "cell_type": "markdown",
   "id": "c4f26588",
   "metadata": {},
   "source": [
    "**MATEMÁTICAS DISCRETAS II**\n",
    "\n",
    "TAREA\n",
    "comprobar el tiempo por el método tradicional de comprobar 1 a 1 vs. Totient de Euler.\n",
    "\n",
    "\n",
    "Elaborado por: Sergio Alejandro Nova Pérez\n",
    "Para: Francisco Albeiro Gomez Jaramillo"
   ]
  },
  {
   "cell_type": "markdown",
   "id": "4387d4a7",
   "metadata": {},
   "source": [
    "**MÉTODO TRADICIONAL**\n",
    "En este algoritmo se obtienen los generadores de un grupo cíclico utilizando el método tradicional, también conocido como fuerza bruta. Este enfoque consiste en probar sistemáticamente todos los posibles elementos del grupo y verificar si generan el grupo completo. A través de este método, se exploran exhaustivamente todas las combinaciones hasta encontrar los generadores deseados."
   ]
  },
  {
   "cell_type": "code",
   "execution_count": null,
   "id": "14ddf84c",
   "metadata": {},
   "outputs": [],
   "source": [
    "def getGenerators(arr):  # Función que obtiene los generadores de un grupo por el método tradicional (No recomendado para grupos muy grandes)\n",
    "  generators = []        \n",
    "  for i in range(arr):   # En este caso usamos dos bucles anidados :C\n",
    "    subgroup = []        # Esto es lo que realentiza el algoritmo\n",
    "    j = 1\n",
    "    while(j<arr+3):                  \n",
    "      number = (i*j)%arr             # el múmero sera i+j mod tamaño del grupo\n",
    "      if(number not in subgroup):    # Si el número no esta en el subgrupo, entonces se almacena\n",
    "        subgroup.append(number)\n",
    "      else:\n",
    "        j = arr+3                    # De lo contrario aumenta el contador y pasa a verificar otro\n",
    "      j+=1\n",
    "    if(len(subgroup)==arr):\n",
    "      generators.append(i)\n",
    "\n",
    "  return generators     #Esta función retorna un arreglo con los generadores de un grupo"
   ]
  },
  {
   "cell_type": "code",
   "execution_count": null,
   "id": "5bed6fc2",
   "metadata": {},
   "outputs": [],
   "source": [
    "print(getGenerators(12))"
   ]
  },
  {
   "cell_type": "markdown",
   "id": "7d89bdec",
   "metadata": {},
   "source": [
    "Si solicitas que muestre los generadores del grupo cíclico de 12 utilizando el método tradicional, los generadores serían \n",
    "[1, 5, 7, 11]. \n",
    "Es cierto que para grupos pequeños como este, el método tradicional es eficiente y puede calcularse en milisegundos.\n",
    "Sin embargo, es importante tener en cuenta que a medida que el tamaño del grupo aumenta, el método tradicional se vuelve más lento y costoso en términos de tiempo de cálculo. Para grupos de tamaño mucho mayor, como un grupo de 100,000, el algoritmo tradicional podría llevar horas o incluso días para encontrar los generadores, dependiendo de la eficiencia del algoritmo implementado.\n",
    "\n",
    "Cuando se trabaja con grupos grandes, existen otros enfoques más eficientes y optimizados, como algoritmos basados en teoría de números, teoría de grupos o métodos algebraicos especializados, que permiten encontrar los generadores de manera más rápida y eficiente. Estos enfoques están diseñados para aprovechar las propiedades y estructuras específicas del grupo en cuestión, lo que puede reducir significativamente el tiempo de cálculo necesario.\n",
    "\n",
    "**MÉTODO TOTIENT EULER**\n",
    "\n",
    "En este caso, se realizará la comprobación utilizando el método de la función phi de Euler o totient de Euler. Este método implica el uso del concepto de números coprimos. Además, será necesario utilizar un algoritmo para calcular el máximo común divisor de dos números, como el algoritmo de Euclides.\n",
    "\n",
    "El método de la función phi de Euler es útil para determinar si un número es generador de un grupo cíclico. Se basa en el cálculo de la función phi de Euler, que cuenta la cantidad de números enteros positivos que son coprimos con un número dado.\n",
    "\n",
    "Para verificar si un número es generador, se calcula la función phi de Euler para el número en cuestión y se verifica si el resultado es igual al tamaño del grupo. Si son iguales, entonces el número es un generador. Si no son iguales, se prueba con otro número hasta encontrar un generador válido.\n",
    "\n",
    "Además, se utiliza el algoritmo de Euclides para calcular el máximo común divisor de dos números. Este algoritmo es eficiente y se utiliza para determinar si dos números son coprimos, es decir, si no tienen divisores comunes excepto 1.\n",
    "\n",
    "Al combinar el método de la función phi de Euler y el algoritmo de Euclides, se puede determinar eficientemente si un número es generador de un grupo cíclico. Esto evita la necesidad de probar sistemáticamente todos los elementos del grupo y acelera el proceso de búsqueda de generadores.\n",
    "\n"
   ]
  },
  {
   "cell_type": "code",
   "execution_count": null,
   "id": "66478490",
   "metadata": {},
   "outputs": [],
   "source": [
    "# Algoritmo del máximo común divisor (MCD)\n",
    "# Algoritmo de Euclides \n",
    "def mcd(a, b):\n",
    "    temporal = 0     # Creamos una variable temporal \n",
    "    while b != 0:    # mientras b sea distinto de cero continuamos el bucle\n",
    "        temporal = b     # Ahora temporal = b\n",
    "        b = a % b        # Y b = a mod b \n",
    "        a = temporal     # a pasa a ser igual a temporal\n",
    "    return a             # retornamos a, que vendría siendo el mcd(a,b)"
   ]
  },
  {
   "cell_type": "markdown",
   "id": "df6916ee",
   "metadata": {},
   "source": [
    "**ALGORITMO DE TOTIENT EULER**"
   ]
  },
  {
   "cell_type": "code",
   "execution_count": null,
   "id": "4079b30a",
   "metadata": {},
   "outputs": [],
   "source": [
    "def totientEuler(arr):   # Usando el Totient de Euler\n",
    "  generators = []                # Creamos un arreglo que almacena los generadores\n",
    "  for x in range(1,arr+1):       # Con un bucle verficamos cuales son o no generadores \n",
    "    if(mcd(x,arr)==1):           # verificamos si los números son coprimos\n",
    "      generators.append(x)       # En caso de que lo lleguen a ser, almacenamos el número en los generadores \n",
    "  return generators              # retornamos los generadores"
   ]
  },
  {
   "cell_type": "markdown",
   "id": "216ad80f",
   "metadata": {},
   "source": [
    "Es correcto, si utilizamos el método de la función phi de Euler para encontrar los generadores del grupo cíclico de 12, obtendremos los mismos resultados: [1, 5, 7, 11]. Este método es igualmente rápido para grupos pequeños en comparación con el enfoque tradicional.\n",
    "\n",
    "La ventaja de utilizar la función phi de Euler es que es más eficiente y más fácil de calcular en comparación con probar cada elemento del grupo de forma exhaustiva, como se hace en el enfoque tradicional. Esto se vuelve especialmente beneficioso cuando trabajamos con grupos grandes.\n",
    "\n",
    "Para grupos de mayor tamaño, el método de la función phi de Euler puede mostrar los generadores en cuestión de segundos o minutos, en lugar de horas o días que podrían requerirse con el enfoque tradicional. Esto se debe a que el cálculo de la función phi de Euler es más rápido y no implica realizar una verificación exhaustiva de todos los elementos del grupo.\n",
    "\n",
    "En resumen, el método de la función phi de Euler es igualmente rápido para grupos pequeños y mucho más eficiente para grupos grandes en comparación con el enfoque tradicional de probar todos los elementos. Permite encontrar los generadores en cuestión de segundos o minutos en lugar de horas o días."
   ]
  }
 ],
 "metadata": {
  "kernelspec": {
   "display_name": "Python 3 (ipykernel)",
   "language": "python",
   "name": "python3"
  },
  "language_info": {
   "codemirror_mode": {
    "name": "ipython",
    "version": 3
   },
   "file_extension": ".py",
   "mimetype": "text/x-python",
   "name": "python",
   "nbconvert_exporter": "python",
   "pygments_lexer": "ipython3",
   "version": "3.10.9"
  }
 },
 "nbformat": 4,
 "nbformat_minor": 5
}
