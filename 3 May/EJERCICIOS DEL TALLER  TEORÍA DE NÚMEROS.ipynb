{
 "cells": [
  {
   "cell_type": "markdown",
   "id": "6e5fa6dd",
   "metadata": {},
   "source": [
    "**UNIVERSIDAD NACIONAL DE COLOMBIA**  \n",
    "\n",
    "**SEDE BOGOTÁ**  \n",
    "\n",
    "**MATEMÁTICAS DISCRETAS II**\n",
    "\n",
    "\n",
    "\n",
    "**TALLER DE TEORIA DE NÚMEROS**\n",
    "\n",
    "Elaborado por : Sergio Alejandro Nova Pérez.\\  \n",
    "Para: Francisco Albeiro Gomez Jaramillo"
   ]
  },
  {
   "cell_type": "markdown",
   "id": "854cc0fa",
   "metadata": {},
   "source": [
    "**6** Encuentre  $\\varphi(n)$  para n=35, n=100, n=51200."
   ]
  },
  {
   "cell_type": "code",
   "execution_count": 1,
   "id": "97331250",
   "metadata": {},
   "outputs": [
    {
     "name": "stdout",
     "output_type": "stream",
     "text": [
      "[5, 1, 7, 1]\n",
      "35 tiene 24 generadores\n",
      "[2, 2, 5, 2]\n",
      "100 tiene 40 generadores\n",
      "[2, 11, 5, 2]\n",
      "51200 tiene 20480 generadores\n"
     ]
    }
   ],
   "source": [
    "#librerías\n",
    "import math\n",
    "import time\n",
    "\n",
    "#inputs\n",
    "a = 35\n",
    "b = 100\n",
    "c = 51200\n",
    "\n",
    "#codigo\n",
    "def factorizar(n):\n",
    "  if n==1:\n",
    "    return 1\n",
    "  else:\n",
    "    numeros_primos = iter((2, 3, 5, 7, 11, 13, 17, 19, 23, 29, 31, 37, 41, 43, 47, 53, 59, 61, 67, 71, 73, 79, 83, 89, 97, 101, 103, 107, 109, 113, 127, 131, 137, \n",
    "                           139, 149, 151, 157, 163, 167, 173, 179, 181, 191, 193, 197, 199, 211, 223, 227, 229, 233, 239, 241, 251, 257, 263, 269, 271, 277, 281, \n",
    "                           283, 293, 307, 311, 313, 317, 331, 337, 347, 349, 353, 359, 367, 373, 379, 383, 389, 397, 401, 409, 419, 421, 431, 433, 439, 443, 449, \n",
    "                           457, 461, 463, 467, 479, 487, 491, 499, 503, 509, 521, 523, 541, 547, 557, 563, 569, 571, 577, 587, 593, 599, 601, 607, 613, 617, 619, \n",
    "                           631, 641, 643, 647, 653, 659, 661, 673, 677, 683, 691, 701, 709, 719, 727, 733, 739, 743, 751, 757, 761, 769, 773, 787, 797, 809, 811, \n",
    "                           821, 823, 827, 829, 839, 853, 857, 859, 863, 877, 881, 883, 887, 907, 911, 919, 929, 937, 941, 947, 953, 967, 971, 977, 983, 991, 997, \n",
    "                           1009, 1013, 1019, 1021, 1031, 1033, 1039, 1049, 1051, 1061, 1063, 1069, 1087, 1091, 1093, 1097, 1103, 1109, 1117, 1123, 1129, 1151, 1153, \n",
    "                           1163, 1171, 1181, 1187, 1193, 1201, 1213, 1217, 1223, 1229, 1231, 1237, 1249, 1259, 1277, 1279, 1283, 1289, 1291, 1297, 1301, 1303, 1307, \n",
    "                           1319, 1321, 1327, 1361, 1367, 1373, 1381, 1399, 1409, 1423, 1427, 1429, 1433, 1439, 1447, 1451, 1453, 1459, 1471, 1481, 1483, 1487, 1489, \n",
    "                           1493, 1499, 1511, 1523, 1531, 1543, 1549, 1553, 1559, 1567, 1571, 1579, 1583, 1597, 1601, 1607, 1609, 1613, 1619, 1621, 1627, 1637, 1657, \n",
    "                           1663, 1667, 1669, 1693, 1697, 1699, 1709, 1721, 1723, 1733, 1741, 1747, 1753, 1759, 1777, 1783, 1787, 1789, 1801, 1811, 1823, 1831, 1847, \n",
    "                           1861, 1867, 1871, 1873, 1877, 1879, 1889, 1901, 1907, 1913, 1931, 1933, 1949, 1951, 1973, 1979, 1987, 1993, 1997, 1999, 2003, 2011, 2017, \n",
    "                           2027, 2029, 2039, 2053, 2063, 2069, 2081, 2083, 2087, 2089, 2099, 2111, 2113, 2129, 2131, 2137, 2141, 2143, 2153, 2161, 2179, 2203, 2207, \n",
    "                           2213, 2221, 2237, 2239, 2243, 2251, 2267, 2269, 2273, 2281, 2287, 2293, 2297, 2309, 2311, 2333, 2339, 2341, 2347, 2351, 2357, 2371, 2377, \n",
    "                           2381, 2383, 2389, 2393, 2399, 2411, 2417, 2423, 2437, 2441, 2447, 2459, 2467, 2473, 2477, 2503, 2521, 2531, 2539, 2543, 2549, 2551, 2557, \n",
    "                           2579, 2591, 2593, 2609, 2617, 2621, 2633, 2647, 2657, 2659, 2663, 2671, 2677, 2683, 2687, 2689, 2693, 2699, 2707, 2711, 2713, 2719, 2729, \n",
    "                           2731, 2741, 2749, 2753, 2767, 2777, 2789, 2791, 2797, 2801, 2803, 2819, 2833, 2837, 2843, 2851, 2857, 2861, 2879, 2887, 2897, 2903, 2909, \n",
    "                           2917, 2927, 2939, 2953, 2957, 2963, 2969, 2971, 2999, 3001))\n",
    "    numero_primo_actual = next(numeros_primos)\n",
    "    resultado = []\n",
    "    cociente = None\n",
    "    while cociente != 1:\n",
    "      if n % numero_primo_actual != 0:\n",
    "        numero_primo_actual = next(numeros_primos)\n",
    "        continue\n",
    "      resultado.append(numero_primo_actual)\n",
    "      n = cociente = n / numero_primo_actual\n",
    "    return resultado\n",
    "\n",
    "def rev_exponentes(lista):\n",
    "  if lista == 1:\n",
    "    return 1\n",
    "  else:\n",
    "    primos = (2, 3, 5, 7, 11, 13, 17, 19, 23, 29, 31, 37, 41, 43, 47, 53, 59, 61, 67, 71, 73, 79, 83, 89, 97, 101, 103, 107, 109, 113, 127, 131, 137, 139, 149, 151, \n",
    "              157, 163, 167, 173, 179, 181, 191, 193, 197, 199, 211, 223, 227, 229, 233, 239, 241, 251, 257, 263, 269, 271, 277, 281, 283, 293, 307, 311, 313, 317, \n",
    "              331, 337, 347, 349, 353, 359, 367, 373, 379, 383, 389, 397, 401, 409, 419, 421, 431, 433, 439, 443, 449, 457, 461, 463, 467, 479, 487, 491, 499, 503, \n",
    "              509, 521, 523, 541, 547, 557, 563, 569, 571, 577, 587, 593, 599, 601, 607, 613, 617, 619, 631, 641, 643, 647, 653, 659, 661, 673, 677, 683, 691, 701, \n",
    "              709, 719, 727, 733, 739, 743, 751, 757, 761, 769, 773, 787, 797, 809, 811, 821, 823, 827, 829, 839, 853, 857, 859, 863, 877, 881, 883, 887, 907, 911, \n",
    "              919, 929, 937, 941, 947, 953, 967, 971, 977, 983, 991, 997,1009, 1013, 1019, 1021, 1031, 1033, 1039, 1049, 1051, 1061, 1063, 1069, 1087, 1091, 1093, \n",
    "              1097, 1103, 1109, 1117, 1123, 1129, 1151, 1153, 1163, 1171, 1181, 1187, 1193, 1201, 1213, 1217, 1223, 1229, 1231, 1237, 1249, 1259, 1277, 1279, 1283, \n",
    "              1289, 1291, 1297, 1301, 1303, 1307, 1319, 1321, 1327, 1361, 1367, 1373, 1381, 1399, 1409, 1423, 1427, 1429, 1433, 1439, 1447, 1451, 1453, 1459, 1471, \n",
    "              1481, 1483, 1487, 1489, 1493, 1499, 1511, 1523, 1531, 1543, 1549, 1553, 1559, 1567, 1571, 1579, 1583, 1597, 1601, 1607, 1609, 1613, 1619, 1621, 1627, \n",
    "              1637, 1657, 1663, 1667, 1669, 1693, 1697, 1699, 1709, 1721, 1723, 1733, 1741, 1747, 1753, 1759, 1777, 1783, 1787, 1789, 1801, 1811, 1823, 1831, 1847, \n",
    "              1861, 1867, 1871, 1873, 1877, 1879, 1889, 1901, 1907, 1913, 1931, 1933, 1949, 1951, 1973, 1979, 1987, 1993, 1997, 1999, 2003, 2011, 2017, 2027, 2029, \n",
    "              2039, 2053, 2063, 2069, 2081, 2083, 2087, 2089, 2099, 2111, 2113, 2129, 2131, 2137, 2141, 2143, 2153, 2161, 2179, 2203, 2207, 2213, 2221, 2237, 2239, \n",
    "              2243, 2251, 2267, 2269, 2273, 2281, 2287, 2293, 2297, 2309, 2311, 2333, 2339, 2341, 2347, 2351, 2357, 2371, 2377, 2381, 2383, 2389, 2393, 2399, 2411, \n",
    "              2417, 2423, 2437, 2441, 2447, 2459, 2467, 2473, 2477, 2503, 2521, 2531, 2539, 2543, 2549, 2551, 2557, 2579, 2591, 2593, 2609, 2617, 2621, 2633, 2647, \n",
    "              2657, 2659, 2663, 2671, 2677, 2683, 2687, 2689, 2693, 2699, 2707, 2711, 2713, 2719, 2729, 2731, 2741, 2749, 2753, 2767, 2777, 2789, 2791, 2797, 2801, \n",
    "              2803, 2819, 2833, 2837, 2843, 2851, 2857, 2861, 2879, 2887, 2897, 2903, 2909, 2917, 2927, 2939, 2953, 2957, 2963, 2969, 2971, 2999, 3001)\n",
    "    resultado = []\n",
    "    for i in primos:\n",
    "      exponente = lista.count(i)\n",
    "      if exponente!=0:\n",
    "        resultado.append(i)\n",
    "        resultado.append(exponente)\n",
    "    return resultado\n",
    "  \n",
    "\n",
    "def division(n,exp=1):\n",
    "  factores = rev_exponentes(factorizar(n))\n",
    "  print(factores)\n",
    "  if factores == 1:\n",
    "    return 1\n",
    "  if len(factores) == 2 and factores[1]==1:\n",
    "    return factores[0]\n",
    "  else:\n",
    "    c = 0\n",
    "    producto = 1\n",
    "    contador = len(factores)\n",
    "    for i in range(0,contador,2):\n",
    "      operacion = (factores[i]**factores[i+1])-(factores[i]**(factores[i+1]-1))\n",
    "      producto *= operacion\n",
    "    return producto\n",
    "    \n",
    "\n",
    "print(a,\"tiene\",division(a),\"generadores\")\n",
    "print(b,\"tiene\",division(b),\"generadores\")\n",
    "print(c,\"tiene\",division(c),\"generadores\")"
   ]
  },
  {
   "cell_type": "markdown",
   "id": "fb1250cd",
   "metadata": {},
   "source": [
    "**7** Usted le pregunta a un robot que quiere comer. El responde “48.879”. Sabiendo que el robot piensa en hexadecimal pero habla el decimal, que le debería dar de comer?"
   ]
  },
  {
   "cell_type": "code",
   "execution_count": 2,
   "id": "ebbaf1b4",
   "metadata": {},
   "outputs": [
    {
     "name": "stdout",
     "output_type": "stream",
     "text": [
      "['B', 'E', 'E', 'F']\n",
      "BEEF\n",
      "Es decir, 'carne de res'\n"
     ]
    }
   ],
   "source": [
    "n = 48879\n",
    "restos = []\n",
    "while n >= 16:\n",
    "  r = n % 16\n",
    "  restos.append(r)\n",
    "  n = int(n/16)\n",
    "restos.append(n)\n",
    "for i in range(len(restos)):\n",
    "    if restos[i] == 10:\n",
    "        restos[i] = 'A'\n",
    "    if restos[i] == 11:\n",
    "        restos[i] = 'B'\n",
    "    if restos[i] == 12:\n",
    "        restos[i] = 'C'\n",
    "    if restos[i] == 13:\n",
    "        restos[i] = 'D'\n",
    "    if restos[i] == 14:\n",
    "        restos[i] = 'E'\n",
    "    if restos[i] == 15:\n",
    "        restos[i] = 'F'\n",
    "restos.reverse()\n",
    "print(restos)\n",
    "palabra = ''.join(restos)\n",
    "print(palabra)\n",
    "print(\"Es decir, 'carne de res'\")"
   ]
  },
  {
   "cell_type": "markdown",
   "id": "400f6574",
   "metadata": {},
   "source": [
    "**8** ¿65.314.638.792 es divisible por 24?"
   ]
  },
  {
   "cell_type": "code",
   "execution_count": null,
   "id": "d89c9d55",
   "metadata": {},
   "outputs": [],
   "source": [
    "print(\"los ultimos 3 digitos 792 son al menos divisibles por 2*2*2 = 8\")\n",
    "dig = 792.0\n",
    "for i in range(2):\n",
    "  print(dig)\n",
    "  dig = dig/2\n",
    "print(dig)\n",
    "\n",
    "n =  \"65314638792\"\n",
    "lista = n.split()\n",
    "factores = [2,2,2,3]\n",
    "suma = 0\n",
    "\n",
    "for i in n:\n",
    "  suma += int(i)\n",
    "  \n",
    "print(\"Es divisible por 3 ya que la suma de sus digitos es:\",suma)\n",
    "print(\"Al ser divisible por 3 y por 8 es divisible por 24 ya que 8 * 3 = 24\")"
   ]
  },
  {
   "cell_type": "markdown",
   "id": "76cf71d8",
   "metadata": {},
   "source": [
    "**14** Encuentre un entero positivo  n  tal que $ 3^{2}\\mid n ,  4^{2}\\mid n+1 ,  5^{2} \\mid n+2 $"
   ]
  },
  {
   "cell_type": "code",
   "execution_count": 3,
   "id": "02c8601e",
   "metadata": {},
   "outputs": [
    {
     "name": "stdout",
     "output_type": "stream",
     "text": [
      "la solución del sistema es: -1377 y el n que satisface los modulos es: 2223\n"
     ]
    }
   ],
   "source": [
    "#n = 0 (mod 9)\n",
    "#n = -1 (mod 16)\n",
    "#n = -2 (mod 25)\n",
    "\n",
    "n = None\n",
    "\n",
    "a1 = 0\n",
    "a2 = -1\n",
    "a3 = -2\n",
    "\n",
    "m1 = 9\n",
    "m2 = 16\n",
    "m3 = 25\n",
    "\n",
    "m = m1*m2*m3\n",
    "\n",
    "M1 =  m/m1\n",
    "M2 =  m/m2\n",
    "M3 =  m/m3\n",
    "\n",
    "#inversas\n",
    "y1 = 7\n",
    "y2 = 1\n",
    "y3 = 4\n",
    "\n",
    "x = (a1*M1*y1)+(a2*M2*y2)+(a3*M3*y3)\n",
    "n = x % m\n",
    "\n",
    "print(\"la solución del sistema es:\",int(x),\"y el n que satisface los modulos es:\",int(n))"
   ]
  }
 ],
 "metadata": {
  "kernelspec": {
   "display_name": "Python 3 (ipykernel)",
   "language": "python",
   "name": "python3"
  },
  "language_info": {
   "codemirror_mode": {
    "name": "ipython",
    "version": 3
   },
   "file_extension": ".py",
   "mimetype": "text/x-python",
   "name": "python",
   "nbconvert_exporter": "python",
   "pygments_lexer": "ipython3",
   "version": "3.10.9"
  }
 },
 "nbformat": 4,
 "nbformat_minor": 5
}
