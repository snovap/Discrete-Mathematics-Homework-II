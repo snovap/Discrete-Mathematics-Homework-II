{
 "cells": [
  {
   "cell_type": "markdown",
   "id": "hueOekZ3HkRF",
   "metadata": {
    "id": "hueOekZ3HkRF"
   },
   "source": [
    "# <center> **|| PORTADA ||** </center>"
   ]
  },
  {
   "cell_type": "markdown",
   "id": "91390ebb",
   "metadata": {
    "id": "91390ebb"
   },
   "source": [
    "<center> \n",
    "\n",
    "**PROYECTO FINAL:**\n",
    "\n",
    "**RSA: ALGORITMO DE ENCRIPTACIÓN Y DESENCRIPTACIÓN**\n",
    "\n",
    "**UNIVERSIDAD NACIONAL DE COLOMBIA**\n",
    "\n",
    "**INGENIERÍA DE SISTEMAS Y COMPUTACIÓN**\n",
    "\n",
    "**MATEMÁTICAS DISCRETAS II** \n",
    "\n",
    "**INTEGRANTES:**\n",
    "\n",
    "-Diego Felipe Cabrejo Suarez \n",
    "\n",
    "-Sergio Alejandro Nova Pérez\n",
    "\n",
    "-Sebastian Molina González\n",
    "\n",
    "<img src= https://upload.wikimedia.org/wikipedia/commons/thumb/a/a2/Escudo_de_la_Universidad_Nacional_de_Colombia_%282016%29.svg/798px-Escudo_de_la_Universidad_Nacional_de_Colombia_%282016%29.svg.png width= 170>\n",
    "\n",
    "</center>\n",
    "\n"
   ]
  },
  {
   "cell_type": "markdown",
   "id": "746a4b90",
   "metadata": {
    "id": "746a4b90"
   },
   "source": [
    "# <center> **|| INTRODUCCIÓN ||** </center>\n",
    "\n"
   ]
  },
  {
   "cell_type": "markdown",
   "id": "BbKFTwG5c7Re",
   "metadata": {
    "id": "BbKFTwG5c7Re"
   },
   "source": [
    "## **- ¿QUÉ ES RSA?:**"
   ]
  },
  {
   "cell_type": "markdown",
   "id": "d607ab21",
   "metadata": {
    "id": "d607ab21"
   },
   "source": [
    "El algoritmo **RSA** es una técnica de cifrado asimétrico que emplea un par de claves distintas, una clave pública y una clave privada, las cuales están matemáticamente relacionadas. La clave pública se distribuye abiertamente, mientras que la clave privada se mantiene en secreto y no debe ser compartida con nadie.\n",
    "\n",
    "Este algoritmo adquirió su nombre en honor a sus inventores, **Ron Rivest**, **Adi Shamir** y **Leonard Adleman**, quienes lo desarrollaron en **1978**.\n",
    "\n",
    "Es importante destacar que este algoritmo se utiliza para **salvaguardar la confidencialidad y la integridad de la información que se transmite a través de redes de comunicación inseguras**. Su principal objetivo es resolver el ***desafío*** del intercambio seguro de claves en un entorno no confiable.\n",
    "\n",
    "La seguridad del sistema RSA **se fundamenta en el problema de factorización de números enteros**. Este problema implica la tarea de **descomponer un número compuesto** en sus factores primos, es decir, encontrar los dos números primos grandes que, al multiplicarse, generan dicho número compuesto.\n",
    "\n",
    "Algunas **características importantes** de RSA:\n",
    "*  El algoritmo RSA es una exponenciación popular en un campo finito sobre números enteros que incluyen números primos. \n",
    "*  Los números enteros utilizados por este método son lo suficientemente grandes como para dificultar su resolución.\n",
    "*  Se considera relativamente sencillo de comprender e implementar en comparación con otros algoritmos criptográficos más complejos. Aunque involucra conceptos matemáticos avanzados, su idea básica es accesible para aquellos familiarizados con la aritmética modular y la teoría de números.\n",
    "* Este algoritmo cifra la información por bloques\n",
    "\n",
    "<img src= https://media.geeksforgeeks.org/wp-content/uploads/20200518124317/RSA3.png>\n"
   ]
  },
  {
   "cell_type": "markdown",
   "id": "bNu26QT0dMWK",
   "metadata": {
    "id": "bNu26QT0dMWK"
   },
   "source": [
    "## **- CONCEPTOS MATEMÁTICOS FUNDAMENTALES:**"
   ]
  },
  {
   "cell_type": "markdown",
   "id": "0f9df0e9",
   "metadata": {
    "id": "0f9df0e9"
   },
   "source": [
    "Para obtener una comprensión más completa del método utilizado, es necesario considerar algunos conceptos matemáticos fundamentales, como la **aritmética modular** y la **congruencia** que serán descritos a continuación:\n",
    "\n",
    "\n",
    "*  $\\textbf{Arimética modular}$ \n",
    "      \n",
    "      Dentro del conjunto $Z_n$, los elementos se comportan de manera similar a los enteros en las operaciones de suma, resta y multiplicación, siempre aplicando el módulo correspondiente al resultado final. Sin embargo, la operación de división se maneja de manera diferente, ya que se basa en el concepto de inverso multiplicativo. Si a es un número perteneciente a $Z_n$, su inverso multiplicativo se denota como $a^{-1}$, y la multiplicación de a por su inverso multiplicativo da como resultado la unidad, es decir: \n",
    "      $$a \\cdot a^{-1} \\equiv 1(mod \\text{ } n)$$\n",
    "\n",
    "      Dado que la división se define como el inverso multiplicativo de un número, podemos pensar en la división como multiplicar por el inverso del divisor. Por ejemplo, $\\frac{a}{b} = c$ se puede expresar como $a \\cdot b^{-1} \\equiv c$. Esta es la idea en la que se basa la división en la aritmética modular.\n",
    "\n",
    "*   $\\textbf{Orden de un elemento}$\n",
    "    \n",
    "    El orden $e$ de un elemento $a$ perteneciente a $Z_n$, es el menor número con el cual se cumple que $a^{e}=1(mod$ $ n)$, es decir que la cantidad de veces por la cual se tiene que multiplicar el elemento $a$ para que se obtenga como resultado $1(mod$ $n)$, teniendo en cuenta que para que el orden exista el elemento escogido debe tener inversa en $Z_n$, lo cual como ya se vio anteriormente siempre se cumple si $n$ es un número primo. Una propiedad importante es que si $a$ $\\in Z_n$ y tiene orden $e$, $a^e=aa^{e-1}=1(mod$ $n)$, esto indica que $a^{e-1}$ es la inversa de $a$, esto por la división en arimética modular.\n",
    "\n",
    "*   $\\textbf{Función $\\varphi$ de Euler}$\n",
    "\n",
    "  Esta función permite determinar el número de enteros positivos coprimos *$x$* a un entero dado, esta se define como: \n",
    "  $$\\varphi(m) =x \\{ n \\in \\mathbb{N} |n \\leq m \\wedge MCD(m,n)=1 \\}$$\n",
    "\n",
    "  De esta definición es posible identificar una serie de caracterisitcas que serán importantes para el desarrollo del RSA:\n",
    "   *  Si $p$ es un número primo, $\\varphi(p)=p-1$, esto debido a que si $p$ es un número primo todos los números naturales anteriores a este son coprimos con él.\n",
    "   *  Si $m$ es un número resultado del producto de dos números $x$ y $y$ ($m=yx$), la función de Euler se puede escribir como: $$\\varphi(m)=\\varphi(x)\\varphi(y)$$ Esto es debido a que si lo dos números son primos y estos se multiplican, el resultado solamente va a poder ser descompuesto en estos factores, por lo cual los números que seran comprimos con este son los mismos que son comprimos con el primer número multiplicados por los del segundo.Este resultado unido al del literal anterior se obtiene que si $m$ es el producto de dos números primos $q$ y $p$ ($m=pq$), entonces: $$\\varphi(m)= (p-1)(q-1)$$\n",
    "\n",
    "\n",
    "*   $\\textbf{Relaciones de congruencia}$\n",
    "\n",
    "      La relación de congruencia, expresada como $a \\equiv b \\pmod{n}$, indica que los números a y b son congruentes módulo n si, al dividir a entre n y b entre n, ambos tienen el mismo residuo. Esta relación se puede entender de manera más sencilla al escribir la congruencia de la siguiente manera: $x \\equiv y \\pmod{n}$. Esto implica que $x = y + kn$ para algún número entero k.\n",
    "\n",
    "      Teniendo en cuenta esta definición, es posible reformular la relación de congruencia inicial de la siguiente manera:\n",
    "\n",
    "\n",
    "\n",
    "$$x\\equiv a(mod \\text{ } n) \\text{ y } x\\equiv b(mod \\text{ } n)$$\n",
    "\n",
    "Al realizar los cambios se obtienen las siguientes expresiones:\n",
    "\n",
    "$$x=a+nk_1 \\text{ y } x=b+nk_2 \\text{, para } k_1 \\text{ y } k_2 \\in \\mathbb{Z}$$\n",
    "\n",
    "Al igualar las expresiones se obtiene lo siguiente:\n",
    "\n",
    "$$a+nk_1=b+nk_2$$\n",
    "\n",
    "$$(a-b) = n(k_1-k_2) \\text{, si } k_1-k_2=k$$ \n",
    "\n",
    "Se obtiene la siguiente forma de expresar la congruencia:\n",
    "\n",
    "$$(a-b) = nk$$\n",
    " \n",
    "La relación de congruencia también nos permite obtener un conjunto de números denominado $Z_n = \\{ 0, 1, ..., n-1 \\}$. Esto significa que, junto con la definición de congruencia mencionada anteriormente, se forma un conjunto en el cual los números se suceden de forma cíclica según el valor de $n$, repitiéndose nuevamente después de un cierto punto. Este fenómeno hace que el número de elementos en este conjunto sea finito y se conozca como un **grupo cíclico**.\n",
    "\n",
    "Con base en estos conceptos, es posible comenzar a desarrollar el algoritmo RSA, que consta de varias etapas. En primer lugar, se generan las claves pública y privada, lo cual implica la generación de números primos y la aplicación de la función $\\varphi$ *de Euler*. Una vez obtenidas las claves, se procede con la etapa de encriptación y, por último, la etapa de desencriptación. En cada uno de estos pasos, se aplican los principios mencionados anteriormente relacionados con la aritmética modular y la congruencia.\n",
    "\n",
    "<center>\n",
    "<img src= https://upload.wikimedia.org/wikipedia/commons/thumb/5/5f/Cyclic_group.svg/250px-Cyclic_group.svg.png>\n",
    "</center>"
   ]
  },
  {
   "cell_type": "markdown",
   "id": "6c17f90c",
   "metadata": {
    "id": "6c17f90c"
   },
   "source": [
    "# <center> **|| MATERIALES Y MÉTODOS ||** </center>"
   ]
  },
  {
   "cell_type": "markdown",
   "id": "PtPYsP8ca2su",
   "metadata": {
    "id": "PtPYsP8ca2su"
   },
   "source": [
    "## **- MODELO:**\n",
    "\n"
   ]
  },
  {
   "cell_type": "markdown",
   "id": "OgKBafZBI5D1",
   "metadata": {
    "id": "OgKBafZBI5D1"
   },
   "source": [
    "En el modelo propuesto para la implementación del algoritmo de RSA se planteo crear 12 funciones, con el objetivo de llevar a cabo el algoritmo de RSA.\n",
    "<br> </br>\n",
    "La primera función que se estableció se denomina *es_primo*, en esta función, el objetivo es verificar si el número proporcionado por el usuario pertenece al conjunto de números primos o no. "
   ]
  },
  {
   "cell_type": "code",
   "execution_count": 2,
   "id": "1f116515",
   "metadata": {
    "id": "1f116515"
   },
   "outputs": [],
   "source": [
    "import math\n",
    "\n",
    "#Cifrado numérico con método RSA\n",
    "\n",
    "#Funciones\n",
    "def es_primo(n):\n",
    "    divisores = []\n",
    "    for i in range(1, n + 1):\n",
    "        if n % i == 0:\n",
    "            divisores.append(i)\n",
    "    if divisores == [1, n]:\n",
    "        # print('Es primo')\n",
    "        return True\n",
    "    else:\n",
    "        # print('No es primo')\n",
    "        return False"
   ]
  },
  {
   "cell_type": "markdown",
   "id": "a0a8b8fc",
   "metadata": {
    "id": "a0a8b8fc"
   },
   "source": [
    "La segunda función del algoritmo general es *mcd*, con esta función se pretende encontrar el máximo común divisor entre los números enteros *m* y *n*, en el caso de nuestro algoritmo, esta función opera para determinar si *e* que es el número de exponente de la clave publica y el *euler_totient_n* tienen como máximo común divisor a 1, el resultado de esta operación es de gran importancia para darle continuidad al algoritmo con las ecuaciones pertinentes en el caso del cifrado del mensaje "
   ]
  },
  {
   "cell_type": "code",
   "execution_count": 3,
   "id": "21d72e48",
   "metadata": {
    "id": "21d72e48"
   },
   "outputs": [],
   "source": [
    "def mcd(m, n):\n",
    "    c = math.trunc(m / n)\n",
    "    r = m - (c * n)\n",
    "    while r != 0:\n",
    "        m = n\n",
    "        n = r\n",
    "        c = math.trunc(m / n)\n",
    "        r = m - (c * n)\n",
    "    return n"
   ]
  },
  {
   "cell_type": "markdown",
   "id": "bfff35c8",
   "metadata": {
    "id": "bfff35c8"
   },
   "source": [
    "Continuando con la ejecución del programa, se halla la función de *generador_primos*, esta tiene como objetivo generar listado de números primos, ¿Cuantos números primos? el número determinado por el usuario"
   ]
  },
  {
   "cell_type": "code",
   "execution_count": 4,
   "id": "b874cd04",
   "metadata": {
    "id": "b874cd04"
   },
   "outputs": [],
   "source": [
    "def generador_primos(cantidad):\n",
    "    lista_primos = []\n",
    "    x=2\n",
    "    while cantidad!=0:\n",
    "        if es_primo(x):\n",
    "            lista_primos.append(x)\n",
    "            x+=1\n",
    "            cantidad-=1\n",
    "        else:\n",
    "            x+=1\n",
    "    return lista_primos\n"
   ]
  },
  {
   "cell_type": "markdown",
   "id": "390eab59",
   "metadata": {
    "id": "390eab59"
   },
   "source": [
    "Dado el listado de números primos se procede a elegir un número de esta lista para que sea el valor de *p* y otro número para que sea el valor de *q*, en esta ocasión se ejecuta *elegir_valores_p_q*, y se retorna el valor de cada uno frente a su respectiva letra."
   ]
  },
  {
   "cell_type": "code",
   "execution_count": 5,
   "id": "b978880a",
   "metadata": {
    "id": "b978880a"
   },
   "outputs": [],
   "source": [
    "def elegir_valores_p_q():\n",
    "    p=int(input(\"Elegir valor primo de p: \"))\n",
    "    while not es_primo(p):\n",
    "        p = int(input(\"Elegir valor primo de p: \"))\n",
    "    q=int(input(\"Elegir valor primo de q: \"))\n",
    "    while not es_primo(q):\n",
    "        q = int(input(\"Elegir valor primo de q: \"))\n",
    "    return [p,q]"
   ]
  },
  {
   "cell_type": "markdown",
   "id": "bf3ed5c4",
   "metadata": {
    "id": "bf3ed5c4"
   },
   "source": [
    "En la siguiente función denominada *calcular_e* se presenta al usuario el listado de los posibles valores de *e*, luego el usuario debe elegir el valor de *e* con el cual se continuará la operación. En esta función es importante destacar que existen *dos condiciones* importantes para hallar los posibles valores de e, la primera condición es que *e* tiene que ser mayor a 1 y menor a $\\varphi(n)$ y la segunda condición es que el máximo común divisor de *e* y $\\varphi(n)$ tiene que ser 1, de esta manera se iran agregando a la lista de *posibles_valores_e*, para así, después de tener la lista, el usuario pueda elegir."
   ]
  },
  {
   "cell_type": "code",
   "execution_count": 6,
   "id": "95825bb3",
   "metadata": {
    "id": "95825bb3"
   },
   "outputs": [],
   "source": [
    "def calcular_e(euler_totient_n):\n",
    "    e=2\n",
    "    posibles_valores_e = []\n",
    "    while e>1 and e<euler_totient_n:\n",
    "        if mcd(e, euler_totient_n) == 1:\n",
    "            posibles_valores_e.append(e)\n",
    "            e+=1\n",
    "        else:\n",
    "            e+=1\n",
    "    print(\"Posibles valores de e: \", posibles_valores_e)\n",
    "    e = int(input(\"Elegir valor de e: \"))\n",
    "    while e not in posibles_valores_e:\n",
    "        print(\"Elegir valor en la lista de posibles valores de e: \")\n",
    "        e = int(input(\"Elegir valor de e: \"))\n",
    "    return e"
   ]
  },
  {
   "cell_type": "markdown",
   "id": "e0969005",
   "metadata": {
    "id": "e0969005"
   },
   "source": [
    "Prosiguiendo con las funciones, se crea la función *calcular_d*, la cual tiene como finalidad calcular el valor de *d*. Matemáticamente para hallar el valor *d* se tiene la siguiente ecuación, *e* $\\cdot$ *d* $\\equiv$ 1 ( mod $\\varphi$(n)), despejamos y así obtenemos *d* = $e^{-1}$ ( mod $\\varphi$(n)) y operamos, en nuestra función almacenamos el valor de 1 en la variable *k* \n"
   ]
  },
  {
   "cell_type": "code",
   "execution_count": 7,
   "id": "9a0d3c83",
   "metadata": {
    "id": "9a0d3c83"
   },
   "outputs": [],
   "source": [
    "def calcular_d(e, euler_totient_n):\n",
    "    k=1\n",
    "    m = ((euler_totient_n * k) + 1)%e\n",
    "    while m!=0:\n",
    "        k+=1\n",
    "        m = ((euler_totient_n * k) + 1) % e\n",
    "    d = int(((euler_totient_n * k) + 1) / e)\n",
    "    return d"
   ]
  },
  {
   "cell_type": "markdown",
   "id": "fa786e67",
   "metadata": {
    "id": "fa786e67"
   },
   "source": [
    "En la siguiente función *encontrar_posicion_letra* como su nombre lo indica, se busca encontrar la posición especifica de cada letra, de esta manera se crea una variable denominada alfabeto, la cual vamos a recorrer y así a cada letra se le asignará una posición. Esta función será importante al momento de cifrar el mensaje que desea el usuario."
   ]
  },
  {
   "cell_type": "code",
   "execution_count": 8,
   "id": "6c02ebb5",
   "metadata": {
    "id": "6c02ebb5"
   },
   "outputs": [],
   "source": [
    "def encontrar_posicion_letra(letra):\n",
    "    alfabeto = \"ABCDEFGHIJKLMNÑOPQRSTUVWXYZ\"\n",
    "    posicion = 0\n",
    "    for l in alfabeto:\n",
    "        if l==letra:\n",
    "            return posicion\n",
    "        else:\n",
    "            posicion+=1"
   ]
  },
  {
   "cell_type": "markdown",
   "id": "777d2808",
   "metadata": {
    "id": "777d2808"
   },
   "source": [
    "La siguiente función es una de las más importantes del algoritmo, la finalidad de esta es cifrar la palabra que el usuario introduzca, de esta manera la función *cifrar_palabra* toma una palabra y una llave de encriptación como entrada y devuelve la palabra encriptada. \n",
    "\n",
    "La función realiza los siguientes pasos:\n",
    "\n",
    "* Desempaqueta la llave de encriptación en las variables n y e.\n",
    "* Crea una lista vacía llamada *letras_como_numeros* para almacenar las letras de la palabra como números.\n",
    "* Crea una lista vacía llamada *letras_como_numeros_encriptado* para almacenar las letras encriptadas como números.\n",
    "* Crea una cadena vacía llamada *palabra_encriptada* para almacenar la palabra encriptada final.\n",
    "* Itera sobre cada letra en la palabra: \n",
    "    *  Llama a la función *encontrar_posicion_letra(letra)* para obtener la posición de la letra en algún sistema de numeración.\n",
    "    *  Agrega la posición a la lista *letras_como_numeros*.\n",
    "* Itera sobre cada número en la lista *letras_como_numeros:*\n",
    "    *  Encripta el número elevándolo a la potencia e y aplicando la operación modular n.\n",
    "    *  Agrega el número encriptado a la *lista letras_como_numeros_encriptado*.\n",
    "* Itera sobre cada número en la lista *letras_como_numeros_encriptado:*\n",
    "    * Convierte el número encriptado a una cadena y lo concatena a la cadena *palabra_encriptada*, seguido de un espacio.\n",
    "        \n",
    "Y por último retorna la cadena *palabra_encriptada*, que contiene la palabra encriptada como una serie de números separados por espacios.\n",
    "\n"
   ]
  },
  {
   "cell_type": "code",
   "execution_count": 9,
   "id": "9a665217",
   "metadata": {
    "id": "9a665217"
   },
   "outputs": [],
   "source": [
    "def cifrar_palabra(palabra, llave_encriptacion):\n",
    "    n,e = llave_encriptacion\n",
    "    letras_como_numeros = []\n",
    "    letras_como_numeros_encriptado = []\n",
    "    palabra_encriptada = \"\"\n",
    "    for letra in palabra:\n",
    "        posicion = encontrar_posicion_letra(letra)\n",
    "        letras_como_numeros.append(posicion)\n",
    "    for l in letras_como_numeros:\n",
    "        letra_encriptada = (l**e)%n\n",
    "        letras_como_numeros_encriptado.append(letra_encriptada)\n",
    "    for l_encriptada in letras_como_numeros_encriptado:\n",
    "        palabra_encriptada = palabra_encriptada+str(l_encriptada)+\" \"\n",
    "    return palabra_encriptada"
   ]
  },
  {
   "cell_type": "markdown",
   "id": "994a88d2",
   "metadata": {
    "id": "994a88d2"
   },
   "source": [
    "Continuando con las funciones del algoritmo, se es necesario crear una función que cifre el mensaje, es por esto que se motiva a la creación de la función denominada *cifrar_mensaje*, esta toma un mensaje y una llave de encriptación como entrada, y devuelve el mensaje encriptado utilizando la función cifrar_palabra. Vista desde el punto matemático se hace uso de la siguiente ecuación $ c \\equiv m^e (mod (n))$ donde *m* es el mensaje y  *c* va ser el mensaje ya cifrado, si nos fijamos aqui se utiliza la llave publica *e* y el modulo *n* para cifrar.\n",
    "\n",
    "Luego, los pasos de ejecución son los siguientes:\n",
    "\n",
    "* Convierte el mensaje a mayúsculas utilizando el método upper(). Esto se hace para asegurar consistencia en el procesamiento del mensaje.\n",
    "* Divide el mensaje en una lista de palabras utilizando el método split(\" \"), donde cada palabra se separa por un espacio en blanco.\n",
    "* Inicializa una cadena vacía llamada mensaje_encriptado para almacenar el mensaje encriptado final.\n",
    "* Itera sobre cada palabra en la lista *mensaje_como_lista_palabras:*\n",
    "     * Llama a la función *cifrar_palabra* pasando la palabra y la llave de encriptación como argumentos para obtener la palabra cifrada.\n",
    "     * Concatena la palabra cifrada a la cadena *mensaje_encriptado.*\n",
    "* Retorna la cadena *mensaje_encriptado*, que contiene el mensaje encriptado con todas las palabras cifradas concatenadas. \n",
    "\n",
    "Es importante tener en cuenta que esta función depende de la función *cifrar_palabra* para cifrar cada palabra individualmente.\n",
    "\n"
   ]
  },
  {
   "cell_type": "code",
   "execution_count": 10,
   "id": "f0ca6011",
   "metadata": {
    "id": "f0ca6011"
   },
   "outputs": [],
   "source": [
    "def cifrar_mensaje(mensaje,llave_encriptacion):\n",
    "    mensaje = mensaje.upper()\n",
    "    mensaje_como_lista_palabras = mensaje.split(\" \")\n",
    "    mensaje_encriptado = \"\"\n",
    "    for palabra in mensaje_como_lista_palabras:\n",
    "        palabra_cifrada = cifrar_palabra(palabra, llave_encriptacion)\n",
    "        mensaje_encriptado = mensaje_encriptado+palabra_cifrada\n",
    "    return mensaje_encriptado"
   ]
  },
  {
   "cell_type": "markdown",
   "id": "eb9ec14d",
   "metadata": {
    "id": "eb9ec14d"
   },
   "source": [
    "La siguiente función llamada *encontrar_letra_en_posicion* como bien su nombre indica toma un número como entrada y devuelve la letra correspondiente en esa posición del alfabeto en mayúsculas.\n",
    "\n",
    "De esta manera, primero se inicializa una cadena de caracteres llamada *alfabeto* que contiene todas las letras del alfabeto en mayúsculas, incluyendo la letra \"Ñ\". Luego se inicializa una variable llamada *posicion* con el valor 0, que representa la posición actual en el ciclo. Después se crea un for y se itera sobre cada letra l en el *alfabeto*. Luego, compara el número dado con la variable *posicion*. Si son iguales, significa que se ha encontrado la letra correspondiente a ese número. En ese caso, se devuelve la letra l.\n",
    "\n",
    "Si el número y la posición no son iguales, se incrementa la variable posicion en 1 para continuar buscando en la siguiente posición del alfabeto. Y por último si no se encuentra ninguna coincidencia, la función no devuelve ningún valor explícitamente, lo que se conoce como un valor de retorno implícito en Python.\n"
   ]
  },
  {
   "cell_type": "code",
   "execution_count": 11,
   "id": "e77a4fd7",
   "metadata": {
    "id": "e77a4fd7"
   },
   "outputs": [],
   "source": [
    "def encontrar_letra_en_posicion(numero):\n",
    "    alfabeto = \"ABCDEFGHIJKLMNÑOPQRSTUVWXYZ\"\n",
    "    posicion = 0\n",
    "    for l in alfabeto:\n",
    "        if numero==posicion:\n",
    "            return l\n",
    "        else:\n",
    "            posicion+=1"
   ]
  },
  {
   "cell_type": "markdown",
   "id": "5af334ce",
   "metadata": {
    "id": "5af334ce"
   },
   "source": [
    "Para finalizar la descripción de todas las funciones del algoritmo, nos encontramos con dos de las funciones relevantes del algoritmo, en la función *descifrar_numero* toma un número encriptado y una llave de desencriptación como entrada, y devuelve la letra correspondiente al número desencriptado utilizando la función *encontrar_letra_en_posicion.* luego realiza los siguientes pasos:\n",
    "\n",
    "* Desempaqueta los valores de n y d de la llave de desencriptación.\n",
    "* Calcula el número desencriptado utilizando la fórmula $(numero**d)%n$, donde numero es el número encriptado.\n",
    "* Utiliza la función encontrar_letra_en_posicion para obtener la letra correspondiente al número desencriptado.\n",
    "* Retorna la letra desencriptada.\n",
    "\n",
    "En la segunda función llamada *descifrar_mensaje* se observa que toma un mensaje encriptado y una llave de desencriptación como entrada, y devuelve el mensaje desencriptado como una cadena de caracteres, en este caso los pasos que sigue son:\n",
    "\n",
    "* Divide el mensaje encriptado en una lista de números utilizando el espacio como separador. Cada número representa una letra encriptada.\n",
    "* Inicializa una cadena de caracteres llamada *mensaje_desencriptado* para almacenar el mensaje desencriptado.\n",
    "* Itera sobre cada número en la lista *mensaje_como_lista_de_numeros.*\n",
    "* Convierte el número a entero utilizando int(numero).\n",
    "* Utiliza la función *descifrar_numero* para obtener la letra desencriptada correspondiente al número utilizando la llave de desencriptación.\n",
    "* Concatena la letra desencriptada a la cadena *mensaje_desencriptado.*\n",
    "* Retorna el mensaje desencriptado.\n",
    "\n",
    "Cabe destacar que la operación matemática que se encuentra debajo de estas ejecuciónes es: $$ m \\equiv c^d (mod \\text{ }n)$$ La razón por la cual eso es efectivo es porque \n",
    "$$ c^d =(m^e)^d \\equiv m^ed (mod \\text{ } n)$$ \n",
    "Y esto ocurre porque elegimos cuidadosamente a **$d$** y **$e$** de tal manera que $$ e \\cdot d = 1 + k \\phi(n) $$\n",
    "\n",
    "Al aplicar el teorema de Euler, se obtiene la siguiente afirmación:\n",
    "\n",
    "$$m^ed = m^1 + k \\phi(n) = m(m^\\phi(n))^k \\equiv m(mod \\text{ } n)$$\n",
    "\n",
    "Y así poder obtener nuestro **mensaje descifrado**.\n",
    "\n"
   ]
  },
  {
   "cell_type": "code",
   "execution_count": null,
   "id": "de9ee7c0",
   "metadata": {
    "id": "89b7234e"
   },
   "outputs": [],
   "source": [
    "def descifrar_numero(numero, llave_desencriptacion):\n",
    "    n,d = llave_desencriptacion\n",
    "    numero_desencriptado = (numero**d)%n\n",
    "    letra_desencriptada = encontrar_letra_en_posicion(numero_desencriptado)\n",
    "    return letra_desencriptada\n",
    "\n",
    "def descifrar_mensaje(mensaje,llave_desencriptacion):\n",
    "    mensaje_como_lista_de_numeros = mensaje.split(\" \")\n",
    "    mensaje_desencriptado = \"\"\n",
    "    for numero in mensaje_como_lista_de_numeros:\n",
    "        letra = descifrar_numero(int(numero), llave_desencriptacion)\n",
    "        mensaje_desencriptado = mensaje_desencriptado+str(letra)\n",
    "    return mensaje_desencriptado"
   ]
  },
  {
   "cell_type": "markdown",
   "id": "e8a595ad",
   "metadata": {
    "id": "e8a595ad"
   },
   "source": [
    "## **- IMPRESIONES:**"
   ]
  },
  {
   "cell_type": "markdown",
   "id": "69b9e7ba",
   "metadata": {
    "id": "69b9e7ba"
   },
   "source": [
    "En esta primera impresión, se muestra un proceso interactivo en el que se solicita al usuario ingresar la cantidad de números primos que desea generar, se generan los números primos utilizando la función *generador_primos*, se eligen los valores de \"p\" y \"q\" utilizando la función *elegir_valores_p_q*, y se imprimen los valores generados."
   ]
  },
  {
   "cell_type": "code",
   "execution_count": null,
   "id": "4e0cfbb4",
   "metadata": {
    "id": "4e0cfbb4"
   },
   "outputs": [],
   "source": [
    "print(\"1. Elegir valores primos para p y q\")\n",
    "cantidad_primos = int(input(\"¿Cuántos números primos desea generar?: \"))\n",
    "print(generador_primos(cantidad_primos))\n",
    "p,q=elegir_valores_p_q()\n",
    "print(f\"p={p}, q={q}\")"
   ]
  },
  {
   "cell_type": "markdown",
   "id": "bbb4b0aa",
   "metadata": {
    "id": "bbb4b0aa"
   },
   "source": [
    "Con respecto a la segunda impresión, se le muestra el valor de n al usuario, este valor esta dado bajo la operación del producto de los valores de *p* y *q* ya previamente seleccionados por el usuario, la operación $n=p*q$ "
   ]
  },
  {
   "cell_type": "code",
   "execution_count": null,
   "id": "f4bc973f",
   "metadata": {
    "id": "f4bc973f"
   },
   "outputs": [],
   "source": [
    "print(\"2. Calcular el valor de n\")\n",
    "n=p*q\n",
    "print(f\"n={n}\")"
   ]
  },
  {
   "cell_type": "markdown",
   "id": "bd14bf77",
   "metadata": {
    "id": "bd14bf77"
   },
   "source": [
    "En relación a la tercera impresión, hallamos la ecuación del euler_totient que es igual al producto de (p-1) y (q-1), obteniendo así a $\\phi(n)$ por medio de $\\phi = (p-1) \\ast (q-1)$"
   ]
  },
  {
   "cell_type": "code",
   "execution_count": null,
   "id": "daa2e177",
   "metadata": {
    "id": "daa2e177"
   },
   "outputs": [],
   "source": [
    "print(\"3. Calcular el Euler Totient de n\")\n",
    "euler_totient_n = (p-1)*(q-1)\n",
    "print(f\"Phi(n)={euler_totient_n}\")"
   ]
  },
  {
   "cell_type": "markdown",
   "id": "1681cf33",
   "metadata": {
    "id": "1681cf33"
   },
   "source": [
    "En la cuarta impresión, se presenta el cálculo del valor de \"e\" utilizando la función *calcular_e* y muestra el resultado mediante la impresión del valor calculado. En esta impresión el usuario elige el valor de e, dado una lista de posibles valores de e "
   ]
  },
  {
   "cell_type": "code",
   "execution_count": null,
   "id": "142427f7",
   "metadata": {
    "id": "142427f7"
   },
   "outputs": [],
   "source": [
    "print(\"4. Calcular el valor de e\")\n",
    "e = calcular_e(euler_totient_n)\n",
    "print(f\"e={e}\")"
   ]
  },
  {
   "cell_type": "markdown",
   "id": "8b1040f9",
   "metadata": {
    "id": "8b1040f9"
   },
   "source": [
    "En el bloque de la quinta impresión, se realiza el cálculo del valor de \"d\" utilizando la función *calcular_d* y muestra el resultado mediante la impresión del valor calculado."
   ]
  },
  {
   "cell_type": "code",
   "execution_count": null,
   "id": "f451de31",
   "metadata": {
    "id": "f451de31"
   },
   "outputs": [],
   "source": [
    "print(\"5. Calcular el valor de d\")\n",
    "d =calcular_d(e, euler_totient_n)\n",
    "print(f\"d={d}\")"
   ]
  },
  {
   "cell_type": "markdown",
   "id": "9ff8eada",
   "metadata": {
    "id": "9ff8eada"
   },
   "source": [
    "En el sexto bloque, se obtiene y muestra las llaves pública y privada del algoritmo RSA mediante la creación de listas con los valores correspondientes y su impresión en pantalla."
   ]
  },
  {
   "cell_type": "code",
   "execution_count": null,
   "id": "39b7d6fb",
   "metadata": {
    "id": "39b7d6fb"
   },
   "outputs": [],
   "source": [
    "print(\"6. Obtener llaves\")\n",
    "public_key=[n,e]\n",
    "private_key=[n,d]\n",
    "print(f\"Llave pública = {public_key}\\nLlave privada = {private_key}\")"
   ]
  },
  {
   "cell_type": "markdown",
   "id": "6eb7fe66",
   "metadata": {
    "id": "6eb7fe66"
   },
   "source": [
    "En el septimo bloque, en el primer print se muestra el mensaje *Cifrar mensaje*, luego \n",
    "solicita al usuario un mensaje, lo cifra utilizando la llave pública y muestra el mensaje cifrado resultante."
   ]
  },
  {
   "cell_type": "code",
   "execution_count": null,
   "id": "226c3c38",
   "metadata": {
    "id": "226c3c38"
   },
   "outputs": [],
   "source": [
    "print(\"7. Cifrar mensaje\")\n",
    "mensaje_encriptar = input(\"Introduzca mensaje para cifrar: \")\n",
    "mensaje_cifrado = cifrar_mensaje(mensaje_encriptar, public_key)\n",
    "print(f\"El mensaje cifrado es: {mensaje_cifrado}\")"
   ]
  },
  {
   "cell_type": "markdown",
   "id": "397721b0",
   "metadata": {
    "id": "397721b0"
   },
   "source": [
    "En el último bloque de impresiones, se observa que solicita al usuario un mensaje cifrado, lo descifra utilizando la llave privada y muestra el mensaje descifrado resultante."
   ]
  },
  {
   "cell_type": "code",
   "execution_count": null,
   "id": "1b7de6ee",
   "metadata": {
    "id": "1b7de6ee"
   },
   "outputs": [],
   "source": [
    "print(\"8. Descifrar mensaje\")\n",
    "mensaje_desencriptar = input(\"Introduzca mensaje para descifrar: \")\n",
    "mensaje_descifrado = descifrar_mensaje(mensaje_desencriptar,private_key)\n",
    "print(f\"El mensaje descifrado es: {mensaje_descifrado}\")"
   ]
  },
  {
   "cell_type": "markdown",
   "id": "2441edc6",
   "metadata": {
    "id": "2441edc6"
   },
   "source": [
    "## **- ALGORITMO COMPLETO:**"
   ]
  },
  {
   "cell_type": "markdown",
   "id": "hbdPQZpgyarW",
   "metadata": {
    "id": "hbdPQZpgyarW"
   },
   "source": [
    "### *   **PASOS DE LA EJECUCIÓN DEL ALGORITMO:**\n",
    "\n"
   ]
  },
  {
   "cell_type": "markdown",
   "id": "46a75d10",
   "metadata": {
    "id": "46a75d10"
   },
   "source": [
    "\n",
    "*  Inicialmente se le solicita al usuario que digite el número máximo de números primos que desee que se generen, para asi poder elegir los valores de $p$ y $q$.\n",
    "*  Luego, el programa calculará el valor de $n$, mediante la segunda impresión.\n",
    "*  Enseguida nos brindará el valor de el Euler Totient de $n$, en este paso se ejecutará el print del bloque # 3\n",
    "*  Después de tener el valor de el Euler Totient, se generará una lista con los posibles valores de e, siendo este $e$ el exponente de la clave pública, dicha lista tendrá todos los números menores al Euler Totient, que satisfacen la ecuación. Aquí se ejecutara la función *calcular_e*\n",
    "*  Paso siguiente después de que el usuario elija el valor de $e$, se calcula el valor de $d$, donde $d$ es el exponente la clave privada.\n",
    "*  Una vez se obtienen los valores de $p$, $q$, $n$, $\\varphi$($n$), $e$ y $d$, se procede a mostrar en pantalla la clave pública y la clave privada.\n",
    "* El siguiente texto que aparece en pantalla, le indica al usuario que introduzca el mensaje para cifrar, realizado este paso, aparece el mensaje cifrado.\n",
    "* Continuando con el programa, se procede a descifrar, donde se le solicita al usuario el mensaje cifrado y posteriormente se muestra en pantalla el mensaje descifrado."
   ]
  },
  {
   "cell_type": "markdown",
   "id": "W0RSOSXsIegt",
   "metadata": {
    "id": "W0RSOSXsIegt"
   },
   "source": [
    "### * **CÓDIGO COMPLETO IMPLEMENTADO:**"
   ]
  },
  {
   "cell_type": "code",
   "execution_count": null,
   "id": "4c020119",
   "metadata": {
    "id": "4c020119"
   },
   "outputs": [],
   "source": [
    "import math\n",
    "\n",
    "#Cifrado numérico con método RSA\n",
    "\n",
    "#Funciones\n",
    "def es_primo(n):\n",
    "    divisores = []\n",
    "    for i in range(1, n + 1):\n",
    "        if n % i == 0:\n",
    "            divisores.append(i)\n",
    "    if divisores == [1, n]:\n",
    "        # print('Es primo')\n",
    "        return True\n",
    "    else:\n",
    "        # print('No es primo')\n",
    "        return False\n",
    "\n",
    "def mcd(m, n):\n",
    "    c = math.trunc(m / n)\n",
    "    r = m - (c * n)\n",
    "    while r != 0:\n",
    "        m = n\n",
    "        n = r\n",
    "        c = math.trunc(m / n)\n",
    "        r = m - (c * n)\n",
    "    return n\n",
    "\n",
    "def generador_primos(cantidad):\n",
    "    lista_primos = []\n",
    "    x=2\n",
    "    while cantidad!=0:\n",
    "        if es_primo(x):\n",
    "            lista_primos.append(x)\n",
    "            x+=1\n",
    "            cantidad-=1\n",
    "        else:\n",
    "            x+=1\n",
    "    return lista_primos\n",
    "\n",
    "def elegir_valores_p_q():\n",
    "    p=int(input(\"Elegir valor primo de p: \"))\n",
    "    while not es_primo(p):\n",
    "        p = int(input(\"Elegir valor primo de p: \"))\n",
    "    q=int(input(\"Elegir valor primo de q: \"))\n",
    "    while not es_primo(q):\n",
    "        q = int(input(\"Elegir valor primo de q: \"))\n",
    "    return [p,q]\n",
    "\n",
    "def calcular_e(euler_totient_n):\n",
    "    e=2\n",
    "    posibles_valores_e = []\n",
    "    while e>1 and e<euler_totient_n:\n",
    "        if mcd(e, euler_totient_n) == 1:\n",
    "            posibles_valores_e.append(e)\n",
    "            e+=1\n",
    "        else:\n",
    "            e+=1\n",
    "    print(\"Posibles valores de e: \", posibles_valores_e)\n",
    "    e = int(input(\"Elegir valor de e: \"))\n",
    "    while e not in posibles_valores_e:\n",
    "        print(\"Elegir valor en la lista de posibles valores de e: \")\n",
    "        e = int(input(\"Elegir valor de e: \"))\n",
    "    return e\n",
    "\n",
    "def calcular_d(e, euler_totient_n):\n",
    "    k=1\n",
    "    m = ((euler_totient_n * k) + 1)%e\n",
    "    while m!=0:\n",
    "        k+=1\n",
    "        m = ((euler_totient_n * k) + 1) % e\n",
    "    d = int(((euler_totient_n * k) + 1) / e)\n",
    "    return d\n",
    "\n",
    "def encontrar_posicion_letra(letra):\n",
    "    alfabeto = \"ABCDEFGHIJKLMNÑOPQRSTUVWXYZ\"\n",
    "    posicion = 0\n",
    "    for l in alfabeto:\n",
    "        if l==letra:\n",
    "            return posicion\n",
    "        else:\n",
    "            posicion+=1\n",
    "\n",
    "def cifrar_palabra(palabra, llave_encriptacion):\n",
    "    n,e = llave_encriptacion\n",
    "    letras_como_numeros = []\n",
    "    letras_como_numeros_encriptado = []\n",
    "    palabra_encriptada = \"\"\n",
    "    for letra in palabra:\n",
    "        posicion = encontrar_posicion_letra(letra)\n",
    "        letras_como_numeros.append(posicion)\n",
    "    for l in letras_como_numeros:\n",
    "        letra_encriptada = (l**e)%n\n",
    "        letras_como_numeros_encriptado.append(letra_encriptada)\n",
    "    for l_encriptada in letras_como_numeros_encriptado:\n",
    "        palabra_encriptada = palabra_encriptada+str(l_encriptada)+\" \"\n",
    "    return palabra_encriptada\n",
    "\n",
    "\n",
    "def cifrar_mensaje(mensaje,llave_encriptacion):\n",
    "    mensaje = mensaje.upper()\n",
    "    mensaje_como_lista_palabras = mensaje.split(\" \")\n",
    "    mensaje_encriptado = \"\"\n",
    "    for palabra in mensaje_como_lista_palabras:\n",
    "        palabra_cifrada = cifrar_palabra(palabra, llave_encriptacion)\n",
    "        mensaje_encriptado = mensaje_encriptado+palabra_cifrada\n",
    "    return mensaje_encriptado\n",
    "\n",
    "def encontrar_letra_en_posicion(numero):\n",
    "    alfabeto = \"ABCDEFGHIJKLMNÑOPQRSTUVWXYZ\"\n",
    "    posicion = 0\n",
    "    for l in alfabeto:\n",
    "        if numero==posicion:\n",
    "            return l\n",
    "        else:\n",
    "            posicion+=1\n",
    "\n",
    "def descifrar_numero(numero, llave_desencriptacion):\n",
    "    n,d = llave_desencriptacion\n",
    "    numero_desencriptado = (numero**d)%n\n",
    "    letra_desencriptada = encontrar_letra_en_posicion(numero_desencriptado)\n",
    "    return letra_desencriptada\n",
    "\n",
    "def descifrar_mensaje(mensaje,llave_desencriptacion):\n",
    "    mensaje_como_lista_de_numeros = mensaje.split(\" \")\n",
    "    mensaje_desencriptado = \"\"\n",
    "    for numero in mensaje_como_lista_de_numeros:\n",
    "        letra = descifrar_numero(int(numero), llave_desencriptacion)\n",
    "        mensaje_desencriptado = mensaje_desencriptado+str(letra)\n",
    "    return mensaje_desencriptado\n",
    "\n",
    "\n",
    "print(\"1. Elegir valores primos para p y q\")\n",
    "cantidad_primos = int(input(\"¿Cuántos números primos desea generar?: \"))\n",
    "print(generador_primos(cantidad_primos))\n",
    "p,q=elegir_valores_p_q()\n",
    "print(f\"p={p}, q={q}\")\n",
    "\n",
    "print(\"2. Calcular el valor de n\")\n",
    "n=p*q\n",
    "print(f\"n={n}\")\n",
    "\n",
    "print(\"3. Calcular el Euler Totient de n\")\n",
    "euler_totient_n = (p-1)*(q-1)\n",
    "print(f\"Phi(n)={euler_totient_n}\")\n",
    "\n",
    "print(\"4. Calcular el valor de e\")\n",
    "e = calcular_e(euler_totient_n)\n",
    "print(f\"e={e}\")\n",
    "\n",
    "print(\"5. Calcular el valor de d\")\n",
    "d =calcular_d(e, euler_totient_n)\n",
    "print(f\"d={d}\")\n",
    "\n",
    "print(\"6. Obtener llaves\")\n",
    "public_key=[n,e]\n",
    "private_key=[n,d]\n",
    "print(f\"Llave pública = {public_key}\\nLlave privada = {private_key}\")\n",
    "\n",
    "print(\"7. Cifrar mensaje\")\n",
    "mensaje_encriptar = input(\"Introduzca mensaje para cifrar: \")\n",
    "mensaje_cifrado = cifrar_mensaje(mensaje_encriptar, public_key)\n",
    "print(f\"El mensaje cifrado es: {mensaje_cifrado}\")\n",
    "\n",
    "print(\"8. Descifrar mensaje\")\n",
    "mensaje_desencriptar = input(\"Introduzca mensaje para descifrar: \")\n",
    "mensaje_descifrado = descifrar_mensaje(mensaje_desencriptar,private_key)\n",
    "print(f\"El mensaje descifrado es: {mensaje_descifrado}\")\n"
   ]
  },
  {
   "cell_type": "markdown",
   "id": "0ba8cfda",
   "metadata": {
    "id": "0ba8cfda"
   },
   "source": [
    "# <center> **|| RESULTADOS ||** </center>\n"
   ]
  },
  {
   "cell_type": "markdown",
   "id": "iZPuTXSBhb6d",
   "metadata": {
    "id": "iZPuTXSBhb6d"
   },
   "source": [
    "## **- REALIZAR ANTES DE INICIAR:**"
   ]
  },
  {
   "cell_type": "markdown",
   "id": "dafe60dc",
   "metadata": {
    "id": "dafe60dc"
   },
   "source": [
    "*   Es necesario **correr (*inicializar*) todas las funciones** para el correcto funcionamiento de todos los elementos de esta implementación del algoritmo de RSA.\n",
    "\n",
    "\n"
   ]
  },
  {
   "cell_type": "code",
   "execution_count": null,
   "id": "DTNGFlQhg5RC",
   "metadata": {
    "id": "DTNGFlQhg5RC"
   },
   "outputs": [],
   "source": [
    "import math\n",
    "\n",
    "#Cifrado numérico con método RSA\n",
    "\n",
    "#Funciones\n",
    "def es_primo(n):\n",
    "    divisores = []\n",
    "    for i in range(1, n + 1):\n",
    "        if n % i == 0:\n",
    "            divisores.append(i)\n",
    "    if divisores == [1, n]:\n",
    "        # print('Es primo')\n",
    "        return True\n",
    "    else:\n",
    "        # print('No es primo')\n",
    "        return False\n",
    "\n",
    "def mcd(m, n):\n",
    "    c = math.trunc(m / n)\n",
    "    r = m - (c * n)\n",
    "    while r != 0:\n",
    "        m = n\n",
    "        n = r\n",
    "        c = math.trunc(m / n)\n",
    "        r = m - (c * n)\n",
    "    return n\n",
    "\n",
    "def generador_primos(cantidad):\n",
    "    lista_primos = []\n",
    "    x=2\n",
    "    while cantidad!=0:\n",
    "        if es_primo(x):\n",
    "            lista_primos.append(x)\n",
    "            x+=1\n",
    "            cantidad-=1\n",
    "        else:\n",
    "            x+=1\n",
    "    return lista_primos\n",
    "\n",
    "def elegir_valores_p_q():\n",
    "    p=int(input(\"Elegir valor primo de p: \"))\n",
    "    while not es_primo(p):\n",
    "        p = int(input(\"Elegir valor primo de p: \"))\n",
    "    q=int(input(\"Elegir valor primo de q: \"))\n",
    "    while not es_primo(q):\n",
    "        q = int(input(\"Elegir valor primo de q: \"))\n",
    "    return [p,q]\n",
    "\n",
    "def calcular_e(euler_totient_n):\n",
    "    e=2\n",
    "    posibles_valores_e = []\n",
    "    while e>1 and e<euler_totient_n:\n",
    "        if mcd(e, euler_totient_n) == 1:\n",
    "            posibles_valores_e.append(e)\n",
    "            e+=1\n",
    "        else:\n",
    "            e+=1\n",
    "    print(\"Posibles valores de e: \", posibles_valores_e)\n",
    "    e = int(input(\"Elegir valor de e: \"))\n",
    "    while e not in posibles_valores_e:\n",
    "        print(\"Elegir valor en la lista de posibles valores de e: \")\n",
    "        e = int(input(\"Elegir valor de e: \"))\n",
    "    return e\n",
    "\n",
    "def calcular_d(e, euler_totient_n):\n",
    "    k=1\n",
    "    m = ((euler_totient_n * k) + 1)%e\n",
    "    while m!=0:\n",
    "        k+=1\n",
    "        m = ((euler_totient_n * k) + 1) % e\n",
    "    d = int(((euler_totient_n * k) + 1) / e)\n",
    "    return d\n",
    "\n",
    "def encontrar_posicion_letra(letra):\n",
    "    alfabeto = \"ABCDEFGHIJKLMNÑOPQRSTUVWXYZ\"\n",
    "    posicion = 0\n",
    "    for l in alfabeto:\n",
    "        if l==letra:\n",
    "            return posicion\n",
    "        else:\n",
    "            posicion+=1\n",
    "\n",
    "def cifrar_palabra(palabra, llave_encriptacion):\n",
    "    n,e = llave_encriptacion\n",
    "    letras_como_numeros = []\n",
    "    letras_como_numeros_encriptado = []\n",
    "    palabra_encriptada = \"\"\n",
    "    for letra in palabra:\n",
    "        posicion = encontrar_posicion_letra(letra)\n",
    "        letras_como_numeros.append(posicion)\n",
    "    for l in letras_como_numeros:\n",
    "        letra_encriptada = (l**e)%n\n",
    "        letras_como_numeros_encriptado.append(letra_encriptada)\n",
    "    for l_encriptada in letras_como_numeros_encriptado:\n",
    "        palabra_encriptada = palabra_encriptada+str(l_encriptada)+\" \"\n",
    "    return palabra_encriptada\n",
    "\n",
    "\n",
    "def cifrar_mensaje(mensaje,llave_encriptacion):\n",
    "    mensaje = mensaje.upper()\n",
    "    mensaje_como_lista_palabras = mensaje.split(\" \")\n",
    "    mensaje_encriptado = \"\"\n",
    "    for palabra in mensaje_como_lista_palabras:\n",
    "        palabra_cifrada = cifrar_palabra(palabra, llave_encriptacion)\n",
    "        mensaje_encriptado = mensaje_encriptado+palabra_cifrada\n",
    "    return mensaje_encriptado\n",
    "\n",
    "def encontrar_letra_en_posicion(numero):\n",
    "    alfabeto = \"ABCDEFGHIJKLMNÑOPQRSTUVWXYZ\"\n",
    "    posicion = 0\n",
    "    for l in alfabeto:\n",
    "        if numero==posicion:\n",
    "            return l\n",
    "        else:\n",
    "            posicion+=1\n",
    "\n",
    "def descifrar_numero(numero, llave_desencriptacion):\n",
    "    n,d = llave_desencriptacion\n",
    "    numero_desencriptado = (numero**d)%n\n",
    "    letra_desencriptada = encontrar_letra_en_posicion(numero_desencriptado)\n",
    "    return letra_desencriptada\n",
    "\n",
    "def descifrar_mensaje(mensaje,llave_desencriptacion):\n",
    "    mensaje_como_lista_de_numeros = mensaje.split(\" \")\n",
    "    mensaje_desencriptado = \"\"\n",
    "    for numero in mensaje_como_lista_de_numeros:\n",
    "        letra = descifrar_numero(int(numero), llave_desencriptacion)\n",
    "        mensaje_desencriptado = mensaje_desencriptado+str(letra)\n",
    "    return mensaje_desencriptado\n"
   ]
  },
  {
   "cell_type": "markdown",
   "id": "HEehH9hUiaDk",
   "metadata": {
    "id": "HEehH9hUiaDk"
   },
   "source": [
    "## **- SELECCIÓN DE LAS LLAVES:**"
   ]
  },
  {
   "cell_type": "markdown",
   "id": "9oPU3zP1ioUX",
   "metadata": {
    "id": "9oPU3zP1ioUX"
   },
   "source": [
    "*   Es necesario **el cálculo y selección de los distintos parámetros** para la encriptación y desencriptación de los mensajes por medio de la llamadas a funciones que se muestran a continuación:\n",
    "\n"
   ]
  },
  {
   "cell_type": "code",
   "execution_count": 22,
   "id": "6OhW591vjD6r",
   "metadata": {
    "colab": {
     "base_uri": "https://localhost:8080/"
    },
    "id": "6OhW591vjD6r",
    "outputId": "e3a001ba-33d7-4292-a38e-11ed7c662cad"
   },
   "outputs": [
    {
     "name": "stdout",
     "output_type": "stream",
     "text": [
      "-Selección de valores primos para p y q:\n",
      "¿Cuántos números primos desea generar?: 11\n",
      "[2, 3, 5, 7, 11, 13, 17, 19, 23, 29, 31]\n",
      "Elegir valor primo de p: 31\n",
      "Elegir valor primo de q: 7\n",
      "p = 31, q = 7\n",
      "\n",
      "Cálculo del valor de n:\n",
      "n = 217\n",
      "\n",
      "Cálculo del Euler Totient de n:\n",
      "Phi(n) = 180\n",
      "\n",
      "Cálculo del valor de e:\n",
      "Posibles valores de e:  [7, 11, 13, 17, 19, 23, 29, 31, 37, 41, 43, 47, 49, 53, 59, 61, 67, 71, 73, 77, 79, 83, 89, 91, 97, 101, 103, 107, 109, 113, 119, 121, 127, 131, 133, 137, 139, 143, 149, 151, 157, 161, 163, 167, 169, 173, 179]\n",
      "Elegir valor de e: 19\n",
      "e = 19\n",
      "\n",
      "Cálculo del valor de d:\n",
      "d = 19\n",
      "\n",
      "Todas las variables definidas satisfactoriamente\n"
     ]
    }
   ],
   "source": [
    "print(\"-Selección de valores primos para p y q:\")\n",
    "cantidad_primos = int(input(\"¿Cuántos números primos desea generar?: \"))\n",
    "print(generador_primos(cantidad_primos))\n",
    "p,q=elegir_valores_p_q()\n",
    "print(f\"p = {p}, q = {q}\")\n",
    "\n",
    "print(\"\")\n",
    "\n",
    "print(\"Cálculo del valor de n:\")\n",
    "n=p*q\n",
    "print(f\"n = {n}\")\n",
    "\n",
    "print(\"\")\n",
    "\n",
    "print(\"Cálculo del Euler Totient de n:\")\n",
    "euler_totient_n = (p-1)*(q-1)\n",
    "print(f\"Phi(n) = {euler_totient_n}\")\n",
    "\n",
    "print(\"\")\n",
    "\n",
    "print(\"Cálculo del valor de e:\")\n",
    "e = calcular_e(euler_totient_n)\n",
    "print(f\"e = {e}\")\n",
    "\n",
    "print(\"\")\n",
    "\n",
    "print(\"Cálculo del valor de d:\")\n",
    "d =calcular_d(e, euler_totient_n)\n",
    "print(f\"d = {d}\")\n",
    "\n",
    "print(\"\")\n",
    "\n",
    "print(\"Todas las variables definidas satisfactoriamente.\")"
   ]
  },
  {
   "cell_type": "markdown",
   "id": "KGNTigWUjIrI",
   "metadata": {
    "id": "KGNTigWUjIrI"
   },
   "source": [
    "\n",
    "*   Tras el cálculo de los parámetros es posible consultar las llaves que se usan en el momento por medio del siguiente llamamiento:\n",
    "\n"
   ]
  },
  {
   "cell_type": "code",
   "execution_count": 23,
   "id": "Ht1kfnAhjQ6X",
   "metadata": {
    "colab": {
     "base_uri": "https://localhost:8080/"
    },
    "id": "Ht1kfnAhjQ6X",
    "outputId": "23a34bfb-d33a-4324-a303-38721c1e5091"
   },
   "outputs": [
    {
     "name": "stdout",
     "output_type": "stream",
     "text": [
      "Obtener llaves\n",
      "Llave pública = [217, 19]\n",
      "Llave privada = [217, 19]\n"
     ]
    }
   ],
   "source": [
    "print(\"Obtener llaves\")\n",
    "public_key=[n,e]\n",
    "private_key=[n,d]\n",
    "print(f\"Llave pública = {public_key}\\nLlave privada = {private_key}\")"
   ]
  },
  {
   "cell_type": "markdown",
   "id": "jL9nx8gxiMGC",
   "metadata": {
    "id": "jL9nx8gxiMGC"
   },
   "source": [
    "## **- ENCRIPTACIÓN Y DESENCRIPTACIÓN DE UN MENSAJE:**"
   ]
  },
  {
   "cell_type": "markdown",
   "id": "ijpAoKrHly_c",
   "metadata": {
    "id": "ijpAoKrHly_c"
   },
   "source": [
    "Tras definir de forma satisfactoria todas las variables necesarias es posible realizar las siguientes acciones:"
   ]
  },
  {
   "cell_type": "markdown",
   "id": "nxTCE4tZnvIE",
   "metadata": {
    "id": "nxTCE4tZnvIE"
   },
   "source": [
    "\n",
    "*   Es posible **encriptar** un mensaje por medio de la escritura de este según solicita durante su ejecución el bloque de código que se muestra a continuación:"
   ]
  },
  {
   "cell_type": "code",
   "execution_count": 24,
   "id": "3ji8lSl_iRy1",
   "metadata": {
    "colab": {
     "base_uri": "https://localhost:8080/"
    },
    "id": "3ji8lSl_iRy1",
    "outputId": "41e13de5-78fb-4847-bf32-6910ba666f31"
   },
   "outputs": [
    {
     "name": "stdout",
     "output_type": "stream",
     "text": [
      "Cifrado de un mensaje:\n",
      "Introduzca mensaje para cifrar: hola\n",
      "El mensaje cifrado es: 14 29 53 0 \n"
     ]
    }
   ],
   "source": [
    "print(\"Cifrado de un mensaje:\")\n",
    "mensaje_encriptar = input(\"Introduzca mensaje para cifrar: \")\n",
    "mensaje_cifrado = cifrar_mensaje(mensaje_encriptar, public_key)\n",
    "print(f\"El mensaje cifrado es: {mensaje_cifrado}\")"
   ]
  },
  {
   "cell_type": "markdown",
   "id": "JUwj583EmeX6",
   "metadata": {
    "id": "JUwj583EmeX6"
   },
   "source": [
    "\n",
    "\n",
    "*   Es posible **desencriptar** un mensaje previamente encriptado introduciendolo durante la ejecución del siguiente bloque de código:\n"
   ]
  },
  {
   "cell_type": "code",
   "execution_count": 25,
   "id": "zwTvlPmLmSma",
   "metadata": {
    "colab": {
     "base_uri": "https://localhost:8080/"
    },
    "id": "zwTvlPmLmSma",
    "outputId": "9385d997-f36d-4b07-f7a7-782b38c94dd9"
   },
   "outputs": [
    {
     "name": "stdout",
     "output_type": "stream",
     "text": [
      "Descifrado de un mensaje:\n",
      "Introduzca mensaje para descifrar: 14 29 53 0\n",
      "El mensaje descifrado es: HOLA\n"
     ]
    }
   ],
   "source": [
    "print(\"Descifrado de un mensaje:\")\n",
    "mensaje_desencriptar = input(\"Introduzca mensaje para descifrar: \")\n",
    "mensaje_descifrado = descifrar_mensaje(mensaje_desencriptar,private_key)\n",
    "print(f\"El mensaje descifrado es: {mensaje_descifrado}\")"
   ]
  },
  {
   "cell_type": "markdown",
   "id": "e82fcb8e",
   "metadata": {
    "id": "e82fcb8e"
   },
   "source": [
    "# <center> **|| CONCLUSIONES ||** </center>"
   ]
  },
  {
   "cell_type": "markdown",
   "id": "72526f51",
   "metadata": {
    "id": "72526f51"
   },
   "source": [
    "### **Tras la realización de este proyecto es posible concluir lo siguiente:**\n",
    "\n",
    "*   El algoritmo **funciona bajo las bases antes mencionadas**, es decir, es capaz de permitir al usuario la correcta encriptación y posterior desencriptación de mensajes usando internamente los conceptos de la Aritmética modular, Orden de un elemento, Función $\\varphi$ de Euler y las relaciones de congruencia para el cálculo y definición de las variables correspondientes a las llaves públicas y privadas, haciendo posible concluir que **cumple con la aplicación adecuada de estos conceptos matemáticos**.\n",
    "\n",
    "*   Se concluyó que el algoritmo de RSA en efecto **no se llega a hacer tan complejo** como otros algoritmos de encriptación al momento de su aplicación **si se dominan los conceptos matemáticos fundamentales** mencionados para su creación, puesto que en gran medida consta de saber **aplicarlos correctamente** para poder llevar a cabo su aplicación.\n",
    "\n",
    "*   Gracias al resultado mostrado es posible concluir que por medio de la implementación realizada en este proyecto del **algoritmo RSA** se cumple de forma satisfactoria con el cometido principal de este, **\"salvaguardar la confidencialidad y la integridad de la información que se transmite a través de redes de comunicación inseguras\"** como se mencionó y demostró anteriormente.\n",
    "\n",
    "<center>\n",
    "<img src= https://elprofedefisica.naukas.com/files/2018/01/RSA.png width=500>\n",
    "</center>"
   ]
  },
  {
   "cell_type": "markdown",
   "id": "79e898c9",
   "metadata": {},
   "source": [
    "Link del video de youtube: https://youtu.be/YTtT4qLDTWA"
   ]
  }
 ],
 "metadata": {
  "colab": {
   "collapsed_sections": [
    "hueOekZ3HkRF",
    "746a4b90",
    "BbKFTwG5c7Re",
    "bNu26QT0dMWK",
    "6c17f90c",
    "PtPYsP8ca2su",
    "e8a595ad",
    "2441edc6",
    "hbdPQZpgyarW",
    "W0RSOSXsIegt",
    "0ba8cfda",
    "iZPuTXSBhb6d",
    "HEehH9hUiaDk",
    "jL9nx8gxiMGC",
    "e82fcb8e"
   ],
   "provenance": []
  },
  "kernelspec": {
   "display_name": "Python 3 (ipykernel)",
   "language": "python",
   "name": "python3"
  },
  "language_info": {
   "codemirror_mode": {
    "name": "ipython",
    "version": 3
   },
   "file_extension": ".py",
   "mimetype": "text/x-python",
   "name": "python",
   "nbconvert_exporter": "python",
   "pygments_lexer": "ipython3",
   "version": "3.10.9"
  }
 },
 "nbformat": 4,
 "nbformat_minor": 5
}
